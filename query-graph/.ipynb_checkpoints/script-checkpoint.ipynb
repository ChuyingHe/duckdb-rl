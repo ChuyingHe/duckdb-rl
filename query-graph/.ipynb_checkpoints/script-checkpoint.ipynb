{
 "cells": [
  {
   "cell_type": "code",
   "execution_count": 6,
   "id": "social-permission",
   "metadata": {},
   "outputs": [],
   "source": [
    "import duckdb\n",
    "import os \n",
    "#cursor = duckdb.connect()\n",
    "#print(cursor.execute('SELECT 42').fetchall())"
   ]
  },
  {
   "cell_type": "code",
   "execution_count": null,
   "id": "increasing-faith",
   "metadata": {},
   "outputs": [],
   "source": [
    "python scripts/generate_querygraph.py /path/to/file.json"
   ]
  },
  {
   "cell_type": "code",
   "execution_count": 10,
   "id": "wound-trial",
   "metadata": {},
   "outputs": [],
   "source": [
    "import duckdb_query_graph"
   ]
  },
  {
   "cell_type": "code",
   "execution_count": 23,
   "id": "leading-closer",
   "metadata": {},
   "outputs": [
    {
     "name": "stdout",
     "output_type": "stream",
     "text": [
      "/Users/chuyinghe/CLionProjects/duckdb-rl/query-graph/profiling\n",
      "/Users/chuyinghe/CLionProjects/duckdb-rl/query-graph/profiling17c.sql.json  -->  /Users/chuyinghe/CLionProjects/duckdb-rl/query-graph/profiling17c.sql.json.html\n"
     ]
    },
    {
     "ename": "FileNotFoundError",
     "evalue": "[Errno 2] No such file or directory: '/Users/chuyinghe/CLionProjects/duckdb-rl/query-graph/profiling17c.sql.json'",
     "output_type": "error",
     "traceback": [
      "\u001b[0;31m---------------------------------------------------------------------------\u001b[0m",
      "\u001b[0;31mFileNotFoundError\u001b[0m                         Traceback (most recent call last)",
      "\u001b[0;32m<ipython-input-23-8d8fa65e03f4>\u001b[0m in \u001b[0;36m<module>\u001b[0;34m\u001b[0m\n\u001b[1;32m      7\u001b[0m     \u001b[0mhtml_dir\u001b[0m \u001b[0;34m=\u001b[0m \u001b[0mprofiling_dir\u001b[0m \u001b[0;34m+\u001b[0m \u001b[0mhtml_filename\u001b[0m\u001b[0;34m\u001b[0m\u001b[0;34m\u001b[0m\u001b[0m\n\u001b[1;32m      8\u001b[0m     \u001b[0mprint\u001b[0m\u001b[0;34m(\u001b[0m\u001b[0mjson_dir\u001b[0m\u001b[0;34m,\u001b[0m \u001b[0;34m\" --> \"\u001b[0m\u001b[0;34m,\u001b[0m \u001b[0mhtml_dir\u001b[0m\u001b[0;34m)\u001b[0m\u001b[0;34m\u001b[0m\u001b[0;34m\u001b[0m\u001b[0m\n\u001b[0;32m----> 9\u001b[0;31m     \u001b[0mduckdb_query_graph\u001b[0m\u001b[0;34m.\u001b[0m\u001b[0mgenerate\u001b[0m\u001b[0;34m(\u001b[0m\u001b[0mjson_dir\u001b[0m\u001b[0;34m,\u001b[0m \u001b[0mhtml_dir\u001b[0m\u001b[0;34m)\u001b[0m\u001b[0;34m\u001b[0m\u001b[0;34m\u001b[0m\u001b[0m\n\u001b[0m",
      "\u001b[0;32m~/.pyenv/versions/3.8.1/lib/python3.8/site-packages/duckdb_query_graph/__init__.py\u001b[0m in \u001b[0;36mgenerate\u001b[0;34m(input_file, output_file)\u001b[0m\n\u001b[1;32m     63\u001b[0m \u001b[0;34m\u001b[0m\u001b[0m\n\u001b[1;32m     64\u001b[0m \u001b[0;32mdef\u001b[0m \u001b[0mgenerate\u001b[0m\u001b[0;34m(\u001b[0m\u001b[0minput_file\u001b[0m\u001b[0;34m,\u001b[0m \u001b[0moutput_file\u001b[0m\u001b[0;34m)\u001b[0m\u001b[0;34m:\u001b[0m\u001b[0;34m\u001b[0m\u001b[0;34m\u001b[0m\u001b[0m\n\u001b[0;32m---> 65\u001b[0;31m         \u001b[0;32mwith\u001b[0m \u001b[0mopen_utf8\u001b[0m\u001b[0;34m(\u001b[0m\u001b[0minput_file\u001b[0m\u001b[0;34m,\u001b[0m \u001b[0;34m'r'\u001b[0m\u001b[0;34m)\u001b[0m \u001b[0;32mas\u001b[0m \u001b[0mf\u001b[0m\u001b[0;34m:\u001b[0m\u001b[0;34m\u001b[0m\u001b[0;34m\u001b[0m\u001b[0m\n\u001b[0m\u001b[1;32m     66\u001b[0m                 \u001b[0mtext\u001b[0m \u001b[0;34m=\u001b[0m \u001b[0mf\u001b[0m\u001b[0;34m.\u001b[0m\u001b[0mread\u001b[0m\u001b[0;34m(\u001b[0m\u001b[0;34m)\u001b[0m\u001b[0;34m\u001b[0m\u001b[0;34m\u001b[0m\u001b[0m\n\u001b[1;32m     67\u001b[0m \u001b[0;34m\u001b[0m\u001b[0m\n",
      "\u001b[0;32m~/.pyenv/versions/3.8.1/lib/python3.8/site-packages/duckdb_query_graph/__init__.py\u001b[0m in \u001b[0;36mopen_utf8\u001b[0;34m(fpath, flags)\u001b[0m\n\u001b[1;32m     12\u001b[0m         \u001b[0;32mreturn\u001b[0m \u001b[0mopen\u001b[0m\u001b[0;34m(\u001b[0m\u001b[0mfpath\u001b[0m\u001b[0;34m,\u001b[0m \u001b[0mflags\u001b[0m\u001b[0;34m)\u001b[0m\u001b[0;34m\u001b[0m\u001b[0;34m\u001b[0m\u001b[0m\n\u001b[1;32m     13\u001b[0m     \u001b[0;32melse\u001b[0m\u001b[0;34m:\u001b[0m\u001b[0;34m\u001b[0m\u001b[0;34m\u001b[0m\u001b[0m\n\u001b[0;32m---> 14\u001b[0;31m         \u001b[0;32mreturn\u001b[0m \u001b[0mopen\u001b[0m\u001b[0;34m(\u001b[0m\u001b[0mfpath\u001b[0m\u001b[0;34m,\u001b[0m \u001b[0mflags\u001b[0m\u001b[0;34m,\u001b[0m \u001b[0mencoding\u001b[0m\u001b[0;34m=\u001b[0m\u001b[0;34m\"utf8\"\u001b[0m\u001b[0;34m)\u001b[0m\u001b[0;34m\u001b[0m\u001b[0;34m\u001b[0m\u001b[0m\n\u001b[0m\u001b[1;32m     15\u001b[0m \u001b[0;34m\u001b[0m\u001b[0m\n\u001b[1;32m     16\u001b[0m \u001b[0;34m\u001b[0m\u001b[0m\n",
      "\u001b[0;31mFileNotFoundError\u001b[0m: [Errno 2] No such file or directory: '/Users/chuyinghe/CLionProjects/duckdb-rl/query-graph/profiling17c.sql.json'"
     ]
    }
   ],
   "source": [
    "cwd = os.getcwd()\n",
    "profiling_dir = cwd+\"/profiling\"\n",
    "print(profiling_dir)\n",
    "for json_filename in os.listdir(profiling_dir):\n",
    "    html_filename = json_filename +'.html'\n",
    "    json_dir = profiling_dir +\"/\"+ json_filename\n",
    "    html_dir = profiling_dir +\"/\"+ html_filename\n",
    "    print(json_dir, \" --> \", html_dir)\n",
    "    duckdb_query_graph.generate(json_dir, html_dir)"
   ]
  },
  {
   "cell_type": "code",
   "execution_count": 12,
   "id": "historical-camera",
   "metadata": {},
   "outputs": [
    {
     "name": "stdout",
     "output_type": "stream",
     "text": [
      "<script>\n",
      "var graph_json = '{    \"result\": 1.916315,    \"timings\": {       \"optimizer\": 0.007824,       \"optimizer > column_lifetime\": 0.000019,       \"optimizer > common_aggregate\": 0.000002,       \"optimizer > common_subexpressions\": 0.000002,       \"optimizer > deliminator\": 0.000000,       \"optimizer > expression_rewriter\": 0.000147,       \"optimizer > filter_pullup\": 0.000001,       \"optimizer > filter_pushdown\": 0.000180,       \"optimizer > in_clause\": 0.000001,       \"optimizer > join_order\": 0.007419,       \"optimizer > regex_range\": 0.000001,       \"optimizer > reorder_filter\": 0.000004,       \"optimizer > statistics_propagation\": 0.000024,       \"optimizer > top_n\": 0.000000,       \"optimizer > unused_columns\": 0.000010,       \"physical_planner\": 0.000069,       \"physical_planner > column_binding\": 0.000026,       \"physical_planner > create_plan\": 0.000026,       \"physical_planner > resolve_types\": 0.000007,       \"planner\": 0.000151,       \"planner > binder\": 0.000146    },    \"tree\": {    \"name\": \"SIMPLE_AGGREGATE\",    \"timing\":0.00,    \"cardinality\":1,    \"extra_info\": \"min(#0)\\\\nmin(#1)\",    \"children\": [    {       \"name\": \"PROJECTION\",       \"timing\":0.00,       \"cardinality\":10,       \"extra_info\": \"name\\\\ntitle\\\\n\",       \"children\": [       {          \"name\": \"HASH_JOIN\",          \"timing\":0.14,          \"cardinality\":10,          \"extra_info\": \"INNER\\\\nperson_role_id=id\\\\n\",          \"children\": [          {             \"name\": \"HASH_JOIN\",             \"timing\":0.50,             \"cardinality\":782104,             \"extra_info\": \"INNER\\\\nmovie_id=id\\\\nmovie_id=movie_id\\\\n\",             \"children\": [             {                \"name\": \"HASH_JOIN\",                \"timing\":0.02,                \"cardinality\":1435439,                \"extra_info\": \"INNER\\\\nrole_id=id\\\\n\",                \"children\": [                {                   \"name\": \"PROJECTION\",                   \"timing\":0.00,                   \"cardinality\":1435439,                   \"extra_info\": \"#1\\\\n#2\\\\n#3\\\\n\",                   \"children\": [                   {                      \"name\": \"FILTER\",                      \"timing\":0.48,                      \"cardinality\":1435439,                      \"extra_info\": \"contains(note, (producer))\",                      \"children\": [                      {                         \"name\": \"SEQ_SCAN\",                         \"timing\":0.24,                         \"cardinality\":36244344,                         \"extra_info\": \"cast_info\\\\n[INFOSEPARATOR]\\\\nnote\\\\nmovie_id\\\\nperson_role_id\\\\nrole_id\",                         \"children\": []                         }                      ]                      }                   ]                   },                {                   \"name\": \"SEQ_SCAN\",                   \"timing\":0.00,                   \"cardinality\":12,                   \"extra_info\": \"role_type\\\\n[INFOSEPARATOR]\\\\nid\",                   \"children\": []                   }                ]                },             {                \"name\": \"HASH_JOIN\",                \"timing\":0.04,                \"cardinality\":596250,                \"extra_info\": \"INNER\\\\ncompany_id=id\\\\n\",                \"children\": [                {                   \"name\": \"HASH_JOIN\",                   \"timing\":0.02,                   \"cardinality\":1508127,                   \"extra_info\": \"INNER\\\\ncompany_type_id=id\\\\n\",                   \"children\": [                   {                      \"name\": \"HASH_JOIN\",                      \"timing\":0.14,                      \"cardinality\":1508127,                      \"extra_info\": \"INNER\\\\nmovie_id=id\\\\n\",                      \"children\": [                      {                         \"name\": \"SEQ_SCAN\",                         \"timing\":0.01,                         \"cardinality\":2609129,                         \"extra_info\": \"movie_companies\\\\n[INFOSEPARATOR]\\\\nmovie_id\\\\ncompany_id\\\\ncompany_type_id\",                         \"children\": []                         },                      {                         \"name\": \"SEQ_SCAN\",                         \"timing\":0.04,                         \"cardinality\":1749032,                         \"extra_info\": \"title\\\\n[INFOSEPARATOR]\\\\ntitle\\\\nproduction_year\\\\nid\\\\n[INFOSEPARATOR]\\\\nFilters: \\\\nproduction_year>1990\",                         \"children\": []                         }                      ]                      },                   {                      \"name\": \"SEQ_SCAN\",                      \"timing\":0.00,                      \"cardinality\":4,                      \"extra_info\": \"company_type\\\\n[INFOSEPARATOR]\\\\nid\",                      \"children\": []                      }                   ]                   },                {                   \"name\": \"SEQ_SCAN\",                   \"timing\":0.01,                   \"cardinality\":84843,                   \"extra_info\": \"company_name\\\\n[INFOSEPARATOR]\\\\ncountry_code\\\\nid\\\\n[INFOSEPARATOR]\\\\nFilters: \\\\ncountry_code=[us]\",                   \"children\": []                   }                ]                }             ]             },          {             \"name\": \"SEQ_SCAN\",             \"timing\":0.04,             \"cardinality\":3140339,             \"extra_info\": \"char_name\\\\n[INFOSEPARATOR]\\\\nname\\\\nid\",             \"children\": []             }          ]          }       ]       }    ]    } }';\n",
      "var result = parse_profiling_output(graph_json);\n",
      "var meta_info = result[0];\n",
      "var graph_data = result[1];\n",
      "document.getElementById('meta-info').innerHTML = meta_info;\n",
      "if (graph_data !== null && graph_data !== undefined) {\n",
      "\tcreate_graph(graph_data, '#query-profile', '.chart');\n",
      "}\n",
      "</script>\n",
      "\t\n"
     ]
    }
   ],
   "source": [
    "duckdb_query_graph.generate('profiling.json', 'profiling.html')"
   ]
  },
  {
   "cell_type": "code",
   "execution_count": null,
   "id": "gothic-portable",
   "metadata": {},
   "outputs": [],
   "source": []
  }
 ],
 "metadata": {
  "kernelspec": {
   "display_name": "Python 3",
   "language": "python",
   "name": "python3"
  },
  "language_info": {
   "codemirror_mode": {
    "name": "ipython",
    "version": 3
   },
   "file_extension": ".py",
   "mimetype": "text/x-python",
   "name": "python",
   "nbconvert_exporter": "python",
   "pygments_lexer": "ipython3",
   "version": "3.8.1"
  }
 },
 "nbformat": 4,
 "nbformat_minor": 5
}
